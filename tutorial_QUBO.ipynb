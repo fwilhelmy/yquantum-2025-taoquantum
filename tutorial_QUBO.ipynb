{
  "cells": [
    {
      "cell_type": "code",
      "execution_count": 13,
      "metadata": {
        "collapsed": false
      },
      "outputs": [],
      "source": [
        "# This cell is added by sphinx-gallery\n",
        "# It can be customized to whatever you like\n",
        "%matplotlib inline"
      ]
    },
    {
      "cell_type": "markdown",
      "metadata": {},
      "source": [
        "# Quadratic Unconstrained Binary Optimization (QUBO)\n",
        "\n",
        "Solving combinatorial optimization problems using quantum computing is\n",
        "one of those promising applications for the near term. But, why are\n",
        "combinatorial optimization problems even important? We care about them\n",
        "because, in fields such as logistics, finance, and engineering, there\n",
        "exist useful applications that can be translated into combinatorial\n",
        "optimization problems. But useful applications are not enough to justify\n",
        "the use of quantum devices. It is here where the second ingredient comes\n",
        "in---many combinatorial optimization problems are difficult to solve!\n",
        "Finding good solutions (classically) for large instances of them\n",
        "requires an enormous amount of computational resources and time 😮‍💨.\n",
        "\n",
        "In this demo, we will be using the quantum approximate optimization\n",
        "algorithm (QAOA) and quantum annealing (QA) to solve a combinatorial\n",
        "optimization problem. First, we show how to translate combinatorial\n",
        "optimization problems into the quadratic unconstrained binary\n",
        "optimization (QUBO) formulation. In the first part of this notebook, we\n",
        "will show how to encode the Knapsack problem as a target Hamiltonian and\n",
        "solve it using the optimization-free version of QAOA and QA on D-Wave\n",
        "Advantage quantum annealer.\n",
        "\n",
        "![](../_static/demonstration_assets/QUBO/items_QUBO.png){.align-center\n",
        "width=\"50.0%\"}\n"
      ]
    },
    {
      "cell_type": "markdown",
      "metadata": {},
      "source": [
        "# Combinatorial Optimization Problems\n",
        "\n",
        "Combinatorial optimization problems involve finding the best way to\n",
        "arrange a set of objects or values to achieve a specific goal. The word\n",
        "'combinatorial' refers to the fact that we are dealing with combinations\n",
        "of objects, while 'optimization' means that we are trying to find the\n",
        "best possible arrangement of them.\n",
        "\n",
        "Let's start with a basic example. Imagine we have 5 items ⚽️, 💻, 📸,\n",
        "📚, and 🎸 and we would love to bring all of them with us.\n",
        "Unfortunately, our knapsack does not fit all of them 😔. So we need to\n",
        "find the best way to bring the most important items with us.\n",
        "\n",
        "This is an example of the infamous *Knapsack Problem.* From our problem\n",
        "statement, we know that we need to maximize the value of the most\n",
        "important items. So we need to assign a value based on the importance\n",
        "the items have to us:\n"
      ]
    },
    {
      "cell_type": "code",
      "execution_count": 14,
      "metadata": {
        "collapsed": false
      },
      "outputs": [],
      "source": [
        "items_values = {\"⚽️\": 8, \"💻\": 47, \"📸\": 10, \"📚\": 5, \"🎸\": 16}\n",
        "values_list = [8, 47, 10, 5, 16]"
      ]
    },
    {
      "cell_type": "markdown",
      "metadata": {},
      "source": [
        "Additionally, we know that we the knapsack has limited space. For\n",
        "simplicity, let's assume there is a limit to the weight it can hold. So\n",
        "we need to assign an estimate of the weight of each item:\n"
      ]
    },
    {
      "cell_type": "code",
      "execution_count": 15,
      "metadata": {
        "collapsed": false
      },
      "outputs": [],
      "source": [
        "items_weight = {\"⚽️\": 3, \"💻\": 11, \"📸\": 14, \"📚\": 19, \"🎸\": 5}\n",
        "weights_list = [3, 11, 14, 19, 5]"
      ]
    },
    {
      "cell_type": "markdown",
      "metadata": {},
      "source": [
        "Finally, we need to know the maximum weight we can bring in the\n",
        "knapsack:\n"
      ]
    },
    {
      "cell_type": "code",
      "execution_count": null,
      "metadata": {
        "collapsed": false
      },
      "outputs": [],
      "source": [
        "max_nodes = 26"
      ]
    },
    {
      "cell_type": "markdown",
      "metadata": {},
      "source": [
        "Now we have well-defined optimization problem to work with. Let's start\n",
        "with the easiest way to solve it, i.e., by trying all possible\n",
        "combinations of the items. But the number of combinations is equal to\n",
        "$2^n$ where $n$ is the number of items. Why is this the case? For each\n",
        "item, we have two options---\"1\" if we bring the item and \"0\" otherwise.\n",
        "With 2 options for each item and 5 items to choose from, we have\n",
        "$2 \\cdot 2 \\cdot 2 \\cdot 2 \\cdot 2 = 2^5 = 32$ combinations in our case.\n",
        "For each of these cases, we calculate the sum of the values and the sum\n",
        "of the weights, selecting the one that fulfills the maximum weight\n",
        "constraint and has the largest sum of values (this is the optimization\n",
        "step). Now, let\\'s write some code to solve the Knapsack problem with\n",
        "this brute-force method!\n"
      ]
    },
    {
      "cell_type": "code",
      "execution_count": null,
      "metadata": {
        "collapsed": false
      },
      "outputs": [
        {
          "name": "stdout",
          "output_type": "stream",
          "text": [
            "The best combination is ['⚽️'] with a total value: 8 and total weight 3 \n"
          ]
        }
      ],
      "source": [
        "import numpy as np\n",
        "\n",
        "def sum_weight(bitstring):\n",
        "    weight = 0\n",
        "    for bit in bitstring:\n",
        "        weight += 1 if bit == \"1\" else 0\n",
        "    return weight\n",
        "\n",
        "\n",
        "def sum_values(bitstring, items_value):\n",
        "    value = 0\n",
        "    for n, i in enumerate(items_value):\n",
        "        if bitstring[n] == \"1\":\n",
        "            value += i\n",
        "    return value\n",
        "\n",
        "items = list(items_values.keys())\n",
        "n_items = len(items)\n",
        "combinations = {}\n",
        "max_value = 0\n",
        "for case_i in range(2**n_items):  # all possible options\n",
        "    combinations[case_i] = {}\n",
        "    bitstring = np.binary_repr(\n",
        "        case_i, n_items\n",
        "    )  # bitstring representation of a possible combination, e.g, \"01100\" in our problem means bringing (-💻📸--)\n",
        "    combinations[case_i][\"items\"] = [items[n] for n, i in enumerate(bitstring) if i == \"1\"]\n",
        "    combinations[case_i][\"value\"] = sum_values(bitstring, values_list)\n",
        "    combinations[case_i][\"weight\"] = sum_values(bitstring, weights_list)\n",
        "    # save the information of the optimal solution (the one that maximizes the value while respecting the maximum weight)\n",
        "    if (\n",
        "        combinations[case_i][\"value\"] > max_value\n",
        "        and combinations[case_i][\"weight\"] <= max_nodes\n",
        "    ):\n",
        "        max_value = combinations[case_i][\"value\"]\n",
        "        optimal_solution = {\n",
        "            \"items\": combinations[case_i][\"items\"],\n",
        "            \"value\": combinations[case_i][\"value\"],\n",
        "            \"weight\": combinations[case_i][\"weight\"],\n",
        "        }\n",
        "\n",
        "\n",
        "print(\n",
        "    f\"The best combination is {optimal_solution['items']} with a total value: {optimal_solution['value']} and total weight {optimal_solution['weight']} \"\n",
        ")"
      ]
    },
    {
      "cell_type": "markdown",
      "metadata": {},
      "source": [
        "That was easy, right? But what if we have larger cases like 10, 50, or\n",
        "100? Just to see how this scales, suppose it takes 1 ns to try one case.\n"
      ]
    },
    {
      "cell_type": "code",
      "execution_count": 18,
      "metadata": {
        "collapsed": false
      },
      "outputs": [
        {
          "name": "stdout",
          "output_type": "stream",
          "text": [
            "- For 25 regions (about 2^25 cases), we need approximately 3.36e-02 seconds to compute classically.\n",
            "- For 50 regions (about 2^50 cases), we need approximately 13.03 days to compute classically.\n",
            "- For 100 regions (about 2^100 cases), we need approximately 40196936841331.48 years to compute classically.\n"
          ]
        }
      ],
      "source": [
        "def print_time_to_solution(n, time_single_case):\n",
        "    \"\"\"\n",
        "    Compute and print the time required to test all 2^n combinations,\n",
        "    converting the result to seconds, days, or years based on its magnitude.\n",
        "\n",
        "    Parameters:\n",
        "        n (int): Number of variables/items.\n",
        "        time_single_case (float): Time to compute a single case in seconds.\n",
        "    \"\"\"\n",
        "    # Conversion constants\n",
        "    sec_day = 3600 * 24\n",
        "    sec_year = sec_day * 365\n",
        "    \n",
        "    # Compute total time in seconds\n",
        "    total_time_sec = time_single_case * (2 ** n)\n",
        "    \n",
        "    # Select appropriate unit for presentation\n",
        "    if total_time_sec < sec_day:\n",
        "        time_str = f\"{total_time_sec:.2e} seconds\"\n",
        "    elif total_time_sec < sec_year:\n",
        "        time_in_days = total_time_sec / sec_day\n",
        "        time_str = f\"{time_in_days:.2f} days\"\n",
        "    else:\n",
        "        time_in_years = total_time_sec / sec_year\n",
        "        time_str = f\"{time_in_years:.2f} years\"\n",
        "        \n",
        "    print(f\"- For {n} regions (about 2^{n} cases), we need approximately {time_str} to compute classically.\")\n",
        "\n",
        "# Example usage:\n",
        "time_per_case = 1e-9  # Time for a single case in seconds\n",
        "\n",
        "print_time_to_solution(25, time_per_case)\n",
        "print_time_to_solution(50, time_per_case)\n",
        "print_time_to_solution(100, time_per_case)\n"
      ]
    },
    {
      "cell_type": "markdown",
      "metadata": {},
      "source": [
        "Guess we don't have the time to try all the possible solutions for 100\n",
        "items 😅! Thankfully, we don\\'t need to --- there are algorithms to find\n",
        "good solutions to combinatorial optimization problems, and maybe one day\n",
        "we will show that one of these algorithms is quantum. So let's continue\n",
        "with our quest 🫡.\n",
        "\n",
        "Our next step is to represent our problem mathematically. First, we\n",
        "represent our items by binary variables $x_i$ that take the value $1$ if\n",
        "we bring the $i$-th item and $0$ otherwise. Next, we know that we want\n",
        "to **maximize** the value of the items carried, so let's create a\n",
        "function $f(\\mathrm{x})$ with these characteristics. To do so, we assign\n",
        "the variables $x_i$ to each of the items\n",
        "$\\mathrm{x} = \\{x_0:⚽️ , x_1:💻, x_2:📸, x_3:📚, x_4:🎸\\},$ multiply\n",
        "each variable by the corresponding item value, and define a function\n",
        "that calculates the weighted sum value of the item:\n",
        "\n",
        "$$\\max_x f(\\mathrm{x}) = \\max_x \\left(8x_0 + 47x_1 + 10x_2 + 5x_3 + 16x_4\\right) \\tag{1}$$\n",
        "\n",
        "This function, called the `objective function`, represents the value of\n",
        "the items we can transport. Usually, solvers [minimize\n",
        "functions](https://en.wikipedia.org/wiki/Mathematical_optimization), so\n",
        "a simple trick in our case is to minimize the negative of our function\n",
        "(which ends up being maximizing our original function 🤪)\n",
        "\n",
        "$$\\min_x -(8x_0 + 47x_1 + 10x_2 + 5x_3 + 16x_4 ) \\tag{2}$$\n",
        "\n",
        "We can write our equation above using the general form of the [QUBO\n",
        "representation](https://en.wikipedia.org/wiki/Quadratic_unconstrained_binary_optimization),\n",
        "i.e., using an upper triangular matrix\n",
        "$Q \\in \\mathbb{R}^{n \\  \\mathrm{x} \\ n}:$\n",
        "\n",
        "$$\\min_x \\mathrm{x}^TQ \\mathrm{x} = \\min_x \\left(\\sum_i \\sum_{j\\ge i} Q_{ij} x_i x_j\\right) = \\min_x \\left(\\sum_i Q_{ii} x_i + \\sum_i\\sum_{j>i} Q_{ij}x_i x_j\\right) \\tag{3}$$\n",
        "\n",
        "where $\\mathrm{x}$ is a vector representing the items of our problem.\n",
        "Note that $x_i x_i = x_i$ for binary variables. Let\\'s look at an\n",
        "example of how to calculate the $\\mathrm{x}^TQ \\mathrm{x}$ above:\n"
      ]
    },
    {
      "cell_type": "code",
      "execution_count": 31,
      "metadata": {
        "collapsed": false
      },
      "outputs": [
        {
          "name": "stdout",
          "output_type": "stream",
          "text": [
            "Q=[[190.2905     115.4170225   25.75301871 115.4170225   70.0039628\n",
            "   15.61999543  25.75301871  15.61999543   3.48529208]\n",
            " [106.92955512 176.297032   106.92955512  64.85605361 106.92955512\n",
            "   64.85605361  14.47134163  23.85920876  14.47134163]\n",
            " [ 24.17177101 108.33036194 178.606572    14.66092022  65.7056859\n",
            "  108.33036194   3.27129348  14.66092022  24.17177101]\n",
            " [ 71.32455321  43.26052831   9.65272861 117.594308    71.32455321\n",
            "   15.91465898  71.32455321  43.26052831   9.65272861]\n",
            " [ 46.37007932  76.4513361   46.37007932  76.4513361  126.046944\n",
            "   76.4513361   46.37007932  76.4513361   46.37007932]\n",
            " [ 12.03240917  53.92551665  88.90814633  19.83808893  88.90814633\n",
            "  146.584752    12.03240917  53.92551665  88.90814633]\n",
            " [ 18.81672058  11.41291795   2.54656621  84.33069099  51.14914964\n",
            "   11.41291795 139.037804    84.33069099  18.81672058]\n",
            " [ 11.08882733  18.28238549  11.08882733  49.69667626  81.93596723\n",
            "   49.69667626  81.93596723 135.089572    81.93596723]\n",
            " [  2.60106461  11.65716285  19.21941234  11.65716285  52.24377933\n",
            "   86.13543024  19.21941234  86.13543024 142.013316  ]]\n",
            "Shape of Q: (9, 9)\n"
          ]
        }
      ],
      "source": [
        "Q = np.load('results/full_matrix.npy')\n",
        "# x_opt = np.array(\n",
        "#     [[1 if i in optimal_solution[\"items\"] else 0] for i in items_values.keys()]\n",
        "# )  # Optimal solution.\n",
        "# opt_str = \"\".join(str(i[0]) for i in x_opt)\n",
        "# min_cost = (x_opt.T @ Q @ x_opt)[0, 0]  # using Equation 3 above\n",
        "print(f\"Q={Q}\")\n",
        "# print(f\"The minimum cost is  {min_cost}\")\n",
        "print(f\"Shape of Q: {Q.shape}\")"
      ]
    },
    {
      "cell_type": "markdown",
      "metadata": {},
      "source": [
        "But just with this function, we cannot solve the problem. We also need\n",
        "the weight restriction. Based on our variables, the weight list\n",
        "(items_weight = {\"⚽️\": $3$, \"💻\": $11$, \"📸\": $14$, \"📚\": $19,$ \"🎸\":\n",
        "$5$}), and the knapsack maximum weight (maximum_weight $W = 26$), we can\n",
        "construct our constraint\n",
        "\n",
        "$$3x_0 + 11x_1 + 14x_2 + 19x_3 + 5x_4 \\le 26$$\n",
        "\n",
        "Here comes a crucial step in the solution of the problem: we need to\n",
        "find a way to combine our *objective function* with this *inequality\n",
        "constraint*. One common method is to include the constraint as a\n",
        "**penalty** term in the objective function. This penalty term should be\n",
        "zero when the total weight of the items is less or equal to 26 and large\n",
        "otherwise. So to make them zero in the range of validity of the\n",
        "constraint, the usual approach is to use *slack variables*. There is an\n",
        "alternative method that has shown to perform better, called [unbalanced\n",
        "penalization](https://arxiv.org/pdf/2211.13914.pdf) , but we present\n",
        "this method later 😉.\n",
        "\n",
        "The slack variable is an auxiliary variable that allows us to convert\n",
        "inequality constraints into equality constraints. The slack variable $S$\n",
        "represents the amount by which the left-hand side of the inequality\n",
        "falls short of the right-hand side. If the left-hand side is less than\n",
        "the right-hand side, then $S$ will be positive and equal to the\n",
        "difference between the two sides. In our case\n",
        "\n",
        "$$3x_0 + 11x_1 + 14x_2 + 19x_3 + 5x_4 + S = 26\\tag{4}$$\n",
        "\n",
        "where $0 \\le S \\le 26.$ But let's take this slowly because we can get\n",
        "lost here, so let's see this with some examples:\n",
        "\n",
        "-   Imagine this case. No item is selected {$x_0$: $0$, $x_1$: $0$,\n",
        "    $x_2:$ $0,$ $x_3$: $0,$ $x_4:$ $0$}, so the overall weight is zero\n",
        "    (a valid solution) and the equality constraint Eq.(4) must be\n",
        "    fulfilled. So we select our slack variable to be 26.\n",
        "-   Now, what if we bring ⚽️ and 📚 {$x_0$: $1$, $x_1$: $0$, $x_2$: $0$,\n",
        "    $x_3:$ $1,$\n",
        "    $x_4:`0}. In this case, the overall weight is :math:`3 + 19 = 22$ (a\n",
        "    valid solution) and the equality constraint is fulfilled if\n",
        "    $22 + S = 26 \\rightarrow S = 4.$\n",
        "-   Finally, what if we try to bring all the items {$x_0$: $1$, $x_1$:\n",
        "    $1$, $x_2:$ $1,$ $x_3$: $1,$ $x_4:$ $1$}, the total weight, in this\n",
        "    case, is $3+11+14+19+5=52$ (not a valid solution), to fulfill the\n",
        "    constraint, we need $52 + S = 26 \\rightarrow S=-26$ but the slack\n",
        "    variable is in the range $(0,26)$ in our definition, so, in this\n",
        "    case, there is valid solution for $S.$\n",
        "\n",
        "Excellent, now we have a way to represent the inequality constraint. Two\n",
        "further steps are needed. First, the slack variable has to be\n",
        "represented in binary form so we can cast it as a sum\n",
        "\n",
        "$$S = \\sum_{k=0}^{N-1} 2^k s_k,$$\n",
        "\n",
        "where $N = \\lfloor\\log_2(\\max S)\\rfloor + 1.$ In our case\n",
        "$N = \\lfloor\\log_2(26)\\rfloor + 1 = 5.$ We need 5 binary variables to\n",
        "represent the range of our $S$ variable.\n",
        "\n",
        "$$S = 2^0 s_0 + 2^1 s_1 + 2^2 s_2 + 2^3 s_3 + 2^4 s_4$$\n",
        "\n",
        "To compact our equation later, let's rename our slack variables by\n",
        "$s_0=x_5$, $s_1=x_6,$ $s_3=x_7$, $s_4=x_8,$ and $s_5=x_9.$ Then we have\n",
        "\n",
        "$$S = 1 x_5 + 2 x_6 + 4 x_7 + 8 x_8 + 16 x_9.$$\n",
        "\n",
        "For example, if we need to represent the second case above (⚽️, 📚),\n",
        "$S = 4 \\rightarrow\\{x_5:0, x_6:0,x_7:1,x_8:0, x_9:0\\}.$\n",
        "\n",
        "We are almost done in our quest to represent our problem in such a way\n",
        "that our quantum computer can manage it. The last step is to add the\n",
        "penalty term, a usual choice for it is to use a quadratic penalty\n",
        "\n",
        "$$p(x,s) = \\lambda \\left(3x_0 + 11x_1 + 14x_2 + 19 x_3 + 5x_4 + x_5 + 2 x_6 + 4x_7 + 8 x_8 + 16 x_9 - 26\\right)^2. \\tag{5}$$\n",
        "\n",
        "Note that this is simply the difference between the left- and right-hand\n",
        "sides of equation $(4).$ With this expression, the condition is\n",
        "satisfied only when the term inside the parentheses is zero. $\\lambda$\n",
        "is a penalty coefficient that we must tune to make that the constraint\n",
        "will always be fulfilled.\n",
        "\n",
        "Now, the objective function can be given by:\n",
        "\n",
        "$$\\min_{x,s} f(x) + p(x,s) = \\min_{x,s} -(8x_0 + 47x_1 + 10x_2 + 5x_3 + 16x_4) +$$\n",
        "\n",
        "$$\\lambda \\left(3x_0 + 11x_1 + 14x_2 + 19x_3 + 5x_4 + x_5 + 2 x_6 + 4x_7 + 8 x_8 + 16 x_9 - 26\\right)^2 \\tag{6}$$\n",
        "\n",
        "or, compacted,\n",
        "\n",
        "$$\\min_{x,s} \\left(f(x) + p(x,s) = -\\sum_i v_i x_i +\\lambda \\left(\\sum_i w_i x_i - W\\right)^2\\right), \\tag{7}$$\n",
        "\n",
        "where $v_i$ and $w_i$ are the value and weight of the $i$-th item.\n",
        "Because of the square in the second term, some $x_i x_i$ terms show up.\n",
        "We can apply the property $x_i x_i = x_i$ (if\n",
        "$x_i = 0 \\rightarrow x_ix_i = 0\\cdot0 = 0$ or\n",
        "$x_i = 1 \\rightarrow x_ix_i = 1\\cdot1 = 1$).\n",
        "\n",
        "The quadratic term on the right-hand side of equation $(7)$ can be\n",
        "rewritten as\n",
        "\n",
        "$$\\left(\\sum_i w_i x_i - C\\right)^2 = \\left(\\sum_i w_i x_i - C\\right)\\left(\\sum_j w_j x_j - C\\right)$$\n",
        "\n",
        "$$= \\sum_i \\sum_j w_i w_j x_i x_j - 2C \\sum_i w_i x_i + C^2$$\n",
        "\n",
        "$$= 2\\sum_i \\sum_{j>i} w_i w_j x_i x_j - \\sum_i w_i(2C - w_i) x_i + C^2 \\tag{8}$$\n",
        "\n",
        "where $w_i$ represent the weights for the items and $2^k$ for the slack\n",
        "variables. We can combine equations $(7)$ and $(8)$ to get the terms of\n",
        "the matrix $Q.$ So we end up with\n",
        "\n",
        "$$Q_{ij} = 2\\lambda w_i w_j,\\tag{9}$$\n",
        "\n",
        "$$Q_{ii} = - v_i  + \\lambda w_i(w_i - 2W).\\tag{10}$$\n",
        "\n",
        "The term $\\lambda W^2$ is only an offset value that does not affect the\n",
        "optimization result and can be added after the optimization to represent\n",
        "the right cost. Let\\'s see how it looks like in our particular example.\n"
      ]
    },
    {
      "cell_type": "code",
      "execution_count": 76,
      "metadata": {
        "collapsed": false
      },
      "outputs": [
        {
          "ename": "IndexError",
          "evalue": "list index out of range",
          "output_type": "error",
          "traceback": [
            "\u001b[1;31m---------------------------------------------------------------------------\u001b[0m",
            "\u001b[1;31mIndexError\u001b[0m                                Traceback (most recent call last)",
            "Cell \u001b[1;32mIn[76], line 11\u001b[0m\n\u001b[0;32m      9\u001b[0m     QT[i, i] \u001b[38;5;241m+\u001b[39m\u001b[38;5;241m=\u001b[39m lambd \u001b[38;5;241m*\u001b[39m weights[i] \u001b[38;5;241m*\u001b[39m (weights[i] \u001b[38;5;241m-\u001b[39m \u001b[38;5;241m2\u001b[39m \u001b[38;5;241m*\u001b[39m max_nodes)  \u001b[38;5;66;03m# Eq. 10\u001b[39;00m\n\u001b[0;32m     10\u001b[0m     \u001b[38;5;28;01mfor\u001b[39;00m j \u001b[38;5;129;01min\u001b[39;00m \u001b[38;5;28mrange\u001b[39m(i \u001b[38;5;241m+\u001b[39m \u001b[38;5;241m1\u001b[39m, \u001b[38;5;28mlen\u001b[39m(QT)):\n\u001b[1;32m---> 11\u001b[0m         QT[i, j] \u001b[38;5;241m+\u001b[39m\u001b[38;5;241m=\u001b[39m \u001b[38;5;241m2\u001b[39m \u001b[38;5;241m*\u001b[39m lambd \u001b[38;5;241m*\u001b[39m weights[i] \u001b[38;5;241m*\u001b[39m \u001b[43mweights\u001b[49m\u001b[43m[\u001b[49m\u001b[43mj\u001b[49m\u001b[43m]\u001b[49m  \u001b[38;5;66;03m# Eq. 9\u001b[39;00m\n\u001b[0;32m     12\u001b[0m offset \u001b[38;5;241m=\u001b[39m lambd \u001b[38;5;241m*\u001b[39m max_nodes\u001b[38;5;241m*\u001b[39m\u001b[38;5;241m*\u001b[39m\u001b[38;5;241m2\u001b[39m\n\u001b[0;32m     13\u001b[0m \u001b[38;5;28mprint\u001b[39m(\u001b[38;5;124mf\u001b[39m\u001b[38;5;124m\"\u001b[39m\u001b[38;5;124mQ=\u001b[39m\u001b[38;5;132;01m{\u001b[39;00mQT\u001b[38;5;132;01m}\u001b[39;00m\u001b[38;5;124m\"\u001b[39m)\n",
            "\u001b[1;31mIndexError\u001b[0m: list index out of range"
          ]
        }
      ],
      "source": [
        "N = round(np.ceil(np.log2(max_nodes)))  # number of slack variables\n",
        "weights = list(items_weight.values()) + [2**k for k in range(N)]\n",
        "\n",
        "QT = np.pad(Q, ((0, N), (0, N)))  # adding the extra slack variables at the end of the Q matrix\n",
        "n_qubits = len(QT)\n",
        "lambd = 2  # We choose a lambda parameter enough large for the constraint to always be fulfilled\n",
        "# Adding the terms for the penalty term\n",
        "for i in range(len(QT)):\n",
        "    QT[i, i] += lambd * weights[i] * (weights[i] - 2 * max_nodes)  # Eq. 10\n",
        "    for j in range(i + 1, len(QT)):\n",
        "        QT[i, j] += 2 * lambd * weights[i] * weights[j]  # Eq. 9\n",
        "offset = lambd * max_nodes**2\n",
        "print(f\"Q={QT}\")\n",
        "# optimal string slack string\n",
        "slack_string = np.binary_repr(max_nodes - optimal_solution[\"weight\"], N)[::-1]\n",
        "x_opt_slack = np.concatenate(\n",
        "    (x_opt, np.array([[int(i)] for i in slack_string]))\n",
        ")  # combining the optimal string and slack string\n",
        "opt_str_slack = \"\".join(str(i[0]) for i in x_opt_slack)\n",
        "cost = (x_opt_slack.T @ QT @ x_opt_slack)[0, 0] + offset  # Optimal cost using equation 3\n",
        "print(f\"Cost:{cost}\")\n",
        "\n",
        "# At this point, we have encoded the problem in a format that we can use to solve it on quantum\n",
        "# computers. Now it only remains to solve it using quantum algorithms!"
      ]
    },
    {
      "cell_type": "markdown",
      "metadata": {},
      "source": [
        "# QAOA\n",
        "\n",
        "We use QAOA [\\[1\\]](https://arxiv.org/pdf/1411.4028.pdf) to find the\n",
        "solution to our Knapsack Problem ([read this\n",
        "demo](https://pennylane.ai/qml/demos/tutorial_qaoa_intro) for a more\n",
        "detailed explanation of the QAOA algorithm). In this case, the cost\n",
        "Hamiltonian, $H_c(Z),$ obtained from the QUBO formulation is translated\n",
        "into a parametric unitary gate given by\n",
        "\n",
        "$$U(H_c, \\gamma_i)=e^{-i \\gamma_i H_c},\\tag{11}$$\n",
        "\n",
        "$$U(H_c, \\gamma_i)=e^{-i \\gamma_i \\left( \\sum_{i<j}^{n-1} J_{ij}Z_iZ_j + \\sum_{i}^{n-1} h_iZ_i\\right)},$$\n",
        "\n",
        "where $\\gamma_i \\in {1,..., p}$ is a set of $p$ parameters to be\n",
        "optimized, the term $e^{-i\\gamma_i J_{ij}Z_iZ_j}$ is implemented in a\n",
        "quantum circuit using a $RZZ(2\\gamma_iJ_{ij})$ gate, and\n",
        "$e^{-i\\gamma_i h_iZ_i}$ using a $RZ(2\\gamma_ih_i)$ gate.\n",
        "\n",
        "The mixer operator applied is\n",
        "\n",
        "$$U(B, \\beta_i)=e^{i \\beta_i X},\\tag{12}$$\n",
        "\n",
        "where $\\beta_i$ is the second parameter that must be optimized and\n",
        "$X = \\sum_{i=1}^n \\sigma_i^x$ with $\\sigma_i^x$ the Pauli-$X$ matrix. We\n",
        "implement Eq. $(12)$ with $R_X(-2\\beta_i) = e^{i \\beta_i \\sigma_x}$\n",
        "gates applied to each qubit. We repeat this sequence of gates $p$ times.\n"
      ]
    },
    {
      "cell_type": "code",
      "execution_count": 77,
      "metadata": {
        "collapsed": false
      },
      "outputs": [],
      "source": [
        "# -----------------------------   QAOA circuit ------------------------------------\n",
        "from collections import defaultdict\n",
        "import pennylane as qml\n",
        "\n",
        "shots = 5000  # Number of samples used\n",
        "dev = qml.device(\"default.qubit\", shots=shots)\n",
        "\n",
        "\n",
        "@qml.qnode(dev)\n",
        "def qaoa_circuit(gammas, betas, h, J, num_qubits):\n",
        "    wmax = max(\n",
        "        np.max(np.abs(list(h.values()))), np.max(np.abs(list(h.values())))\n",
        "    )  # Normalizing the Hamiltonian is a good idea\n",
        "    p = len(gammas)\n",
        "    # Apply the initial layer of Hadamard gates to all qubits\n",
        "    for i in range(num_qubits):\n",
        "        qml.Hadamard(wires=i)\n",
        "    # repeat p layers the circuit shown in Fig. 1\n",
        "    for layer in range(p):\n",
        "        # ---------- COST HAMILTONIAN ----------\n",
        "        for ki, v in h.items():  # single-qubit terms\n",
        "            qml.RZ(2 * gammas[layer] * v / wmax, wires=ki[0])\n",
        "        for kij, vij in J.items():  # two-qubit terms\n",
        "            qml.CNOT(wires=[kij[0], kij[1]])\n",
        "            qml.RZ(2 * gammas[layer] * vij / wmax, wires=kij[1])\n",
        "            qml.CNOT(wires=[kij[0], kij[1]])\n",
        "        # ---------- MIXER HAMILTONIAN ----------\n",
        "        for i in range(num_qubits):\n",
        "            qml.RX(-2 * betas[layer], wires=i)\n",
        "    return qml.sample()\n",
        "\n",
        "\n",
        "def samples_dict(samples, n_items):\n",
        "    \"\"\"Just sorting the outputs in a dictionary\"\"\"\n",
        "    results = defaultdict(int)\n",
        "    for sample in samples:\n",
        "        results[\"\".join(str(i) for i in sample)[:n_items]] += 1\n",
        "    return results"
      ]
    },
    {
      "cell_type": "markdown",
      "metadata": {},
      "source": [
        "The second thing we must consider is the initialization of the $\\beta_i$\n",
        "and $\\gamma_i$ parameters and the subsequent classical optimization of\n",
        "these parameters. Alternatively, we can think of QAOA as a\n",
        "Trotterization of the [quantum adiabatic\n",
        "algorithm](https://openqaoa.entropicalabs.com/parametrization/annealing-parametrization/).\n",
        "We start in the ground state $|+\\rangle ^{\\otimes n}$ of the mixer\n",
        "Hamiltonian $X$ and move to the ground state of the cost Hamiltonian\n",
        "$H_c$ slowly enough to always be close to the ground state of the\n",
        "Hamiltonian. How slow? In our case the rate is determined by the number\n",
        "of layers $p.$ We can adopt this principle and initialize the $\\beta_i$\n",
        "and $\\gamma_i$ in this way, moving $\\beta_i$ from $1$ to $0$ and\n",
        "$\\gamma_i$ from $0$ to $1.$ With this approach, we can skip the\n",
        "optimization part in QAOA.\n"
      ]
    },
    {
      "cell_type": "code",
      "execution_count": 22,
      "metadata": {
        "collapsed": false
      },
      "outputs": [
        {
          "name": "stderr",
          "output_type": "stream",
          "text": [
            "C:\\Users\\fwilh\\AppData\\Local\\Temp\\ipykernel_8260\\3297791593.py:11: UserWarning: FigureCanvasAgg is non-interactive, and thus cannot be shown\n",
            "  fig.show()\n"
          ]
        },
        {
          "data": {
            "image/png": "[encoded data removed]",
            "text/plain": [
              "<Figure size 640x480 with 1 Axes>"
            ]
          },
          "metadata": {},
          "output_type": "display_data"
        }
      ],
      "source": [
        "import matplotlib.pyplot as plt\n",
        "# Annealing schedule for QAOA\n",
        "betas = np.linspace(0, 1, 10)[::-1]  # Parameters for the mixer Hamiltonian\n",
        "gammas = np.linspace(0, 1, 10)  # Parameters for the cost Hamiltonian (Our Knapsack problem)\n",
        "\n",
        "fig, ax = plt.subplots()\n",
        "ax.plot(betas, label=r\"$\\beta_i$\", marker=\"o\", markersize=8, markeredgecolor=\"black\")\n",
        "ax.plot(gammas, label=r\"$\\gamma_i$\", marker=\"o\", markersize=8, markeredgecolor=\"black\")\n",
        "ax.set_xlabel(\"i\", fontsize=18)\n",
        "ax.legend()\n",
        "fig.show()"
      ]
    },
    {
      "cell_type": "markdown",
      "metadata": {},
      "source": [
        "This Figure shows the annealing schedule we will use in our QAOA\n",
        "protocol. The y-axis represents the angle in radians and the x-axis\n",
        "represents the i-th layer of QAOA, from $0$ to $9$ for a total of $p=10$\n",
        "layers.\n"
      ]
    },
    {
      "cell_type": "markdown",
      "metadata": {},
      "source": [
        "I know this is a lot of information so far, but we are almost done! The\n",
        "last step to represent the QUBO problem on QPUs is to change the\n",
        "$x_i\\in \\{0, 1\\}$ variables to spin variables $z_i \\in \\{1, -1\\}$ via\n",
        "the transformation $x_i = (1 - z_i) / 2.$ We also want to set the\n",
        "penalty term, so a value of $\\lambda = 2$ will be enough for our\n",
        "problem. In practice, we choose a value for $\\lambda$ and, if after the\n",
        "optimization the solution does not fulfill the constraints, we try again\n",
        "using a larger value. On the other hand, if the solution is suspected to\n",
        "be a valid but suboptimal, then we will reduce $\\lambda$ a little.\n",
        "Eq.(3) can be represented by an Ising Hamiltonian with quadratic and\n",
        "linear terms plus a constant $O,$ namely\n",
        "\n",
        "$$H_c(\\mathrm{z}) = \\sum_{i, j > i}^{n} J_{ij} z_i z_j + \\sum_{i=1}^n h_{i}z_i + O. \\tag{13}$$\n",
        "\n",
        "Here, $J_{ij}$ are interaction terms and $h_i$ are linear terms, all of\n",
        "them depending on the combinatorial optimization problem.\n"
      ]
    },
    {
      "cell_type": "code",
      "execution_count": null,
      "metadata": {
        "collapsed": false
      },
      "outputs": [
        {
          "name": "stdout",
          "output_type": "stream",
          "text": [
            "Minimum energy:3067.4381263231817\n"
          ]
        }
      ],
      "source": [
        "def from_Q_to_Ising(Q, offset):\n",
        "    \"\"\"Convert the matrix Q of Eq.3 into Eq.13 elements J and h\"\"\"\n",
        "    n_qubits = len(Q)  # Get the number of qubits (variables) in the QUBO matrix\n",
        "    # Create default dictionaries to store h and pairwise interactions J\n",
        "    h = defaultdict(int)\n",
        "    J = defaultdict(int)\n",
        "\n",
        "    # Loop over each qubit (variable) in the QUBO matrix\n",
        "    for i in range(n_qubits):\n",
        "        # Update the magnetic field for qubit i based on its diagonal element in Q\n",
        "        h[(i,)] -= Q[i, i] / 2\n",
        "        # Update the offset based on the diagonal element in Q\n",
        "        offset += Q[i, i] / 2\n",
        "        # Loop over other qubits (variables) to calculate pairwise interactions\n",
        "        for j in range(i + 1, n_qubits):\n",
        "            # Update the pairwise interaction strength (J) between qubits i and j\n",
        "            J[(i, j)] += Q[i, j] / 4\n",
        "            # Update the magnetic fields for qubits i and j based on their interactions in Q\n",
        "            h[(i,)] -= Q[i, j] / 4\n",
        "            h[(j,)] -= Q[i, j] / 4\n",
        "            # Update the offset based on the interaction strength between qubits i and j\n",
        "            offset += Q[i, j] / 4\n",
        "    # Return the magnetic fields, pairwise interactions, and the updated offset\n",
        "    return h, J, offset\n",
        "\n",
        "\n",
        "def energy_Ising(z, h, J, offset):\n",
        "    \"\"\"\n",
        "    Calculate the energy of an Ising model given spin configurations.\n",
        "\n",
        "    Parameters:\n",
        "    - z: A dictionary representing the spin configurations for each qubit.\n",
        "    - h: A dictionary representing the magnetic fields for each qubit.\n",
        "    - J: A dictionary representing the pairwise interactions between qubits.\n",
        "    - offset: An offset value.\n",
        "\n",
        "    Returns:\n",
        "    - energy: The total energy of the Ising model.\n",
        "    \"\"\"\n",
        "    if isinstance(z, str):\n",
        "        z = [(1 if int(i) == 0 else -1) for i in z]\n",
        "    # Initialize the energy with the offset term\n",
        "    energy = offset\n",
        "    # Loop over the magnetic fields (h) for each qubit and update the energy\n",
        "    for k, v in h.items():\n",
        "        energy += v * z[k[0]]\n",
        "    # Loop over the pairwise interactions (J) between qubits and update the energy\n",
        "    for k, v in J.items():\n",
        "        energy += v * z[k[0]] * z[k[1]]\n",
        "    # Return the total energy of the Ising model\n",
        "    return energy\n",
        "\n",
        "\n",
        "# Our previous example should give us the same result\n",
        "z_exp = [\n",
        "    (1 if i == 0 else -1) for i in x_opt_slack\n",
        "]  # Converting the optimal solution from (0,1) to (1, -1)\n",
        "h, J, zoffset = from_Q_to_Ising(Q, offset)  # Eq.13 for our problem\n",
        "energy = energy_Ising(\n",
        "    z_exp, h, J, zoffset\n",
        ")  # Caluclating the energy (Should be the same that for the QUBO)\n",
        "print(f\"Minimum energy:{energy}\")\n",
        "\n",
        "samples_slack = samples_dict(qaoa_circuit(gammas, betas, h, J, num_qubits=len(Q)), n_qubits)\n",
        "values_slack = {\n",
        "    sum_values(sample_i, values_list): count\n",
        "    for sample_i, count in samples_slack.items()\n",
        "    if sum_weight(sample_i) <= max_nodes\n",
        "}  # saving only the solutions that fulfill the constraint\n",
        "print(\n",
        "    f\"The number of optimal solutions using slack variables is {samples_slack[opt_str_slack]} out of {shots}\"\n",
        ")"
      ]
    },
    {
      "cell_type": "markdown",
      "metadata": {},
      "source": [
        "As you can see, only a few samples from the 5000 shots give us the right\n",
        "answer, there are only $2^5 = 32$ options. Randomly guessing the\n",
        "solution will give us on average $5000/32 \\approx 156$ optimal\n",
        "solutions. Why don't we get good results using QAOA? Maybe we can blame\n",
        "the algorithm or we look deeper--- it turns out our encoding method is\n",
        "really bad. Randomly guessing using the whole set of variables ($5$\n",
        "items + $5$ slack) $2^{10} = 1024$ options, $5000/1024 \\approx 5.$ So in\n",
        "fact we have a tiny improvement.\n"
      ]
    },
    {
      "cell_type": "markdown",
      "metadata": {},
      "source": [
        "# Unbalanced penalization (An alternative to slack variables)\n",
        "\n",
        "Unbalanced penalization is a function characterized by a larger penalty\n",
        "when the inequality constraint is not achieved than when it is. So we\n",
        "have to modify Eq. 7 to include a linear term in the following way:\n",
        "\n",
        "$$\\min_{x,s} \\left(f(x) + p(x,s)\\right) = \\min_{x,s} \\left(-\\sum_i v_i x_i - \\lambda_1 \\left(\\sum_i w_i x_i - W\\right) + \\lambda_2 \\left(\\sum_i w_i x_i - W\\right)^2\\right)\\tag{14}.$$\n",
        "\n",
        "where $\\lambda_{1,2}$ are again penalty coefficients. Here\n",
        "[\\[2\\]](https://arxiv.org/abs/2211.13914) and\n",
        "[\\[3\\]](https://arxiv.org/pdf/2305.18757.pdf) some details about\n",
        "unbalanced penalization. The method is already implemented in\n",
        "[OpenQAOA](https://openqaoa.entropicalabs.com/) and [D-Wave\n",
        "Ocean](https://docs.ocean.dwavesys.com/en/stable/) so we don\\'t have to\n",
        "code it ourselves. **The cliffnotes are that you don't need slack\n",
        "variables for the inequality constraints anymore using this approach**.\n"
      ]
    },
    {
      "cell_type": "code",
      "execution_count": 67,
      "metadata": {
        "collapsed": false
      },
      "outputs": [
        {
          "name": "stdout",
          "output_type": "stream",
          "text": [
            "-- cannot find parameters matching version: , using: 22.1.1.0\n",
            "-- cannot find parameters matching version: , using: 22.1.1.0\n"
          ]
        }
      ],
      "source": [
        "from openqaoa.problems import FromDocplex2IsingModel\n",
        "from docplex.mp.model import Model\n",
        "\n",
        "\n",
        "def Knapsack(Q, max_nodes):\n",
        "    \"\"\"Create a docplex model of the problem. (Docplex is a classical solver from IBM)\"\"\"\n",
        "    n_items = Q.shape[0]\n",
        "    mdl = Model()\n",
        "    x = mdl.binary_var_list(range(Q.shape[0]), name=\"x\")\n",
        "    cost = -mdl.sum(x[i] * Q[i][j] for i in range(n_items) for j in range(n_items))\n",
        "    mdl.minimize(cost)\n",
        "    mdl.add_constraint(mdl.sum(x[i] for i in range(n_items)) <= max_nodes)\n",
        "    return mdl\n",
        "\n",
        "# def Knapsack(values, weights, maximum_weight):\n",
        "#     \"\"\"Create a docplex model of the problem. (Docplex is a classical solver from IBM)\"\"\"\n",
        "#     n_items = len(values)\n",
        "#     mdl = Model()\n",
        "#     x = mdl.binary_var_list(range(n_items), name=\"x\")\n",
        "#     cost = -mdl.sum(x[i] * values[i] for i in range(n_items))\n",
        "#     mdl.minimize(cost)\n",
        "#     mdl.add_constraint(mdl.sum(x[i] * weights[i] for i in range(n_items)) <= maximum_weight)\n",
        "#     return mdl\n",
        "\n",
        "# Docplex model, we need to convert our problem in this format to use the unbalanced penalization approach\n",
        "mdl = Knapsack(Q, 3)\n",
        "lambda_1, lambda_2 = (\n",
        "    1,\n",
        "    10000,\n",
        ")  # Parameters of the unbalanced penalization function (They are in the main paper)\n",
        "ising_hamiltonian = FromDocplex2IsingModel(\n",
        "    mdl,\n",
        "    unbalanced_const=True,\n",
        "    strength_ineq=[lambda_1, lambda_2],  # https://arxiv.org/abs/2211.13914\n",
        ").ising_model\n",
        "\n",
        "h_new = {\n",
        "    tuple(i): w for i, w in zip(ising_hamiltonian.terms, ising_hamiltonian.weights) if len(i) == 1\n",
        "}\n",
        "J_new = {\n",
        "    tuple(i): w for i, w in zip(ising_hamiltonian.terms, ising_hamiltonian.weights) if len(i) == 2\n",
        "}\n",
        "\n",
        "samples_unbalanced = samples_dict(\n",
        "    qaoa_circuit(gammas, betas, h_new, J_new, num_qubits=Q.shape[0]), Q.shape[0]\n",
        ")"
      ]
    },
    {
      "cell_type": "markdown",
      "metadata": {},
      "source": [
        "We have improved the QAOA solution by encoding our QUBO wisely, with\n",
        "almost 2000 out of the 5000 samples being the optimal solution. Below,\n",
        "we compare the two different methods to encode the problem. The x-axis\n",
        "is the value of the items we bring based on the optimization (the larger\n",
        "the better) and the y-axis is the number of samples with that value (in\n",
        "log scale to observe the slack variables approach). In this sense, QAOA\n",
        "is pointing to the optimal and suboptimal solutions.\n"
      ]
    },
    {
      "cell_type": "code",
      "execution_count": 68,
      "metadata": {
        "collapsed": false
      },
      "outputs": [
        {
          "data": {
            "image/png": "[encoded data removed]",
            "text/plain": [
              "<Figure size 800x500 with 1 Axes>"
            ]
          },
          "metadata": {},
          "output_type": "display_data"
        },
        {
          "name": "stdout",
          "output_type": "stream",
          "text": [
            "Hamming Weight 0: 000000000:43\n",
            "Hamming Weight 1: 000010000:34, 000000010:39, 010000000:32, 001000000:40, 100000000:43, 000001000:27, 000000100:36, 000100000:27, 000000001:25\n",
            "Hamming Weight 2: 000010010:26, 000000101:30, 100000001:22, 000000011:15, 001010000:25, 001000100:17, 110000000:25, 000011000:28, 010000010:21, 010010000:27, 000110000:17, 000100010:28, 100000100:22, 010001000:22, 011000000:32, 000100100:31, 100001000:23, 000001001:28, 001000001:24, 000010001:28, 001100000:29, 000001010:21, 000010100:29, 000101000:23, 000000110:27, 000100001:24, 001000010:32, 100010000:16, 010000001:24, 100000010:25, 100100000:24, 010100000:27, 101000000:23, 000001100:21, 010000100:22, 001001000:23\n",
            "Hamming Weight 3: 000010110:29, 010100100:31, 101000010:38, 100001010:37, 001000110:37, 001001001:38, 101100000:31, 100010010:32, 001101000:41, 010010100:41, 010100001:34, 110010000:27, 001001100:41, 001010001:42, 100001100:29, 000101010:37, 010001001:35, 000011010:32, 010011000:36, 001011000:49, 000011001:36, 100010100:38, 000001110:29, 110100000:30, 001100001:29, 011100000:38, 001000101:40, 100011000:50, 010101000:41, 001100010:37, 011010000:26, 000110010:42, 000010101:32, 100110000:36, 110000100:37, 000100101:33, 010001100:33, 001000011:34, 010010010:32, 110000001:41, 111000000:30, 000011100:38, 000101001:34, 101000100:30, 010110000:38, 000110100:37, 001001010:36, 110000010:43, 010001010:38, 110001000:28, 010000101:40, 100001001:34, 000100011:33, 011001000:48, 000100110:40, 100100100:31, 101010000:38, 000001011:30, 100100010:33, 001110000:35, 001010010:49, 000001101:31, 000111000:45, 011000100:38, 001010100:33, 000110001:35, 010100010:29, 101000001:33, 100101000:30, 011000001:37, 001100100:36, 101001000:41, 100010001:30, 010000011:24, 011000010:39, 100000101:37, 000101100:29, 100000011:36, 000000111:40, 010010001:32, 010000110:30, 100000110:31, 000010011:29, 100100001:23\n",
            "Hamming Weight 4: 000111010:4, 000011110:8, 011000110:6, 010110001:7, 100010011:8, 100010110:8, 001010101:5, 100000111:3, 011011000:7, 011001001:3, 001110100:2, 001010011:8, 010001011:5, 110001100:11, 010101001:7, 000110011:5, 010010101:3, 011100001:5, 111000100:9, 001110001:3, 010010011:5, 000111001:7, 010011010:8, 100100101:3, 000010111:3, 001100101:6, 001010110:4, 110010010:4, 100011010:7, 111010000:3, 011001010:4, 100011100:7, 100101001:3, 001101100:5, 110010001:4, 010101100:12, 010011100:7, 101001100:3, 000011101:4, 010101010:4, 000111100:5, 110100010:3, 100110010:7, 001110010:8, 011100010:5, 001101010:7, 101101000:6, 001011010:10, 000101110:7, 000110101:5, 110101000:5, 011110000:8, 011010010:2, 010000111:4, 011101000:4, 011001100:2, 110110000:4, 110000101:4, 110010100:6, 101011000:11, 001000111:4, 101110000:4, 011000011:8, 100100110:6, 011010001:7, 101100010:7, 110100100:4, 101000101:6, 010001101:2, 010111000:4, 100011001:6, 001111000:4, 100111000:4, 001001011:4, 011000101:5, 111000001:5, 010100110:6, 010010110:5, 100001110:3, 100101100:3, 001100110:9, 010110010:3, 000100111:4, 101001010:1, 101000110:4, 101001001:5, 000001111:2, 100001011:2, 001011100:4, 001001110:3, 001001101:1, 101100100:5, 100110100:1, 100001101:3, 011100100:4, 011010100:5, 101010001:2, 010110100:3, 100100011:4, 110001001:4, 100101010:3, 000101011:6, 110000110:5, 001101001:2, 010100011:5, 010001110:2, 111000010:7, 101010100:4, 100010101:4, 001011001:3, 110001010:4, 000110110:4, 010011001:5, 101000011:5, 110000011:2, 101100001:3, 010100101:1, 000011011:3, 111100000:4, 111001000:3, 001100011:3, 000101101:1, 110011000:2, 100110001:2, 101010010:2\n",
            "Hamming Weight 5: 010011011:1, 011110001:2, 011110100:2, 110000111:2, 110100011:3, 101001011:1, 001011011:1, 101011001:1, 100111100:2, 110101001:1, 011101010:1, 000111101:1, 010111100:1, 101101010:2, 001111001:1, 111101000:1, 111000101:1, 101000111:1, 000111110:2, 101011100:1, 011010101:1, 101001101:1, 010110110:1, 110010110:1, 110010101:2, 001110110:1, 100101110:1, 100011110:1, 111010010:1, 110001110:3, 001001111:1, 111110000:1, 010011101:1, 010110011:1, 011110010:1, 011011010:1, 100100111:1, 100110110:1, 100011011:1, 001011101:1, 111000110:1, 010100111:1, 001111100:1, 001111010:1, 101110010:1, 111010100:1, 100010111:1, 101100101:1, 001011110:1, 110110010:1, 001110011:1, 011010110:1, 111010001:1\n",
            "Hamming Weight 6: 010111011:1, 101111010:1, 011101011:2, 010111101:1, 001101111:4, 011111010:2, 110100111:2, 110111100:3, 011001111:4, 101110101:2, 111101100:4, 111011100:2, 110110011:2, 010101111:1, 001111011:3, 110101101:4, 111011010:2, 111010101:4, 111110010:2, 101110110:4, 110011101:5, 001111110:3, 111010110:2, 011111100:3, 101011011:1, 111110100:1, 110110110:4, 101010111:2, 011011011:4, 101111100:2, 010110111:1, 110111001:2, 111111000:2, 011110101:3, 101111001:2, 111000111:2, 001011111:2, 001110111:1, 011011110:2, 111011001:3, 111101001:1, 111100011:2, 101110011:1, 011101110:3, 100011111:2, 101100111:1, 101011101:2, 101101011:1, 101001111:2, 111001011:1, 110011110:1, 110001111:1, 100111101:2, 101011110:2, 101101101:1, 010111110:2, 100101111:1, 110011011:1, 011100111:1, 011110110:1, 111101010:1, 100111011:1, 100111110:1\n",
            "Hamming Weight 7: 101111101:2, 110111011:1, 110101111:2, 101110111:1, 111111001:1, 101111011:1, 110110111:1, 111001111:1, 010111111:1, 011110111:1, 111100111:2, 111101110:1, 011111011:1, 111011011:1, 011111101:1, 101011111:1, 011101111:1\n",
            "Hamming Weight 8: 011111111:2, 111101111:1, 111011111:1, 111111011:1, 111110111:1\n",
            "Hamming Weight 9: 111111111:8\n"
          ]
        }
      ],
      "source": [
        "import matplotlib.pyplot as plt\n",
        "from collections import defaultdict\n",
        "\n",
        "# Create a mapping from Hamming weight to aggregated count and details.\n",
        "hamming_data = defaultdict(lambda: {\"total\": 0, \"states\": []})\n",
        "for state, count in samples_unbalanced.items():\n",
        "    state_str = ''.join(map(str, state)) if isinstance(state, (tuple, list)) else state\n",
        "    # Calculate Hamming weight (number of 1's).\n",
        "    hamming_weight = state_str.count('1')\n",
        "    hamming_data[hamming_weight][\"total\"] += count\n",
        "    hamming_data[hamming_weight][\"states\"].append((state_str, count))\n",
        "\n",
        "# Prepare data for plotting.\n",
        "weights = sorted(hamming_data.keys())\n",
        "totals = [hamming_data[w][\"total\"] for w in weights]\n",
        "\n",
        "plt.figure(figsize=(8, 5))\n",
        "plt.bar([str(w) for w in weights], totals)\n",
        "plt.xlabel(\"Hamming Weight (Number of 1's)\")\n",
        "plt.ylabel(\"Total Counts\")\n",
        "plt.title(\"Histogram of States Grouped by Hamming Weight\")\n",
        "plt.tight_layout()\n",
        "plt.show()\n",
        "\n",
        "# Optionally, print the details for each group.\n",
        "for w in weights:\n",
        "    states_info = ', '.join([f'{st}:{cnt}' for st, cnt in hamming_data[w][\"states\"]])\n",
        "    print(f\"Hamming Weight {w}: {states_info}\")\n"
      ]
    },
    {
      "cell_type": "code",
      "execution_count": 69,
      "metadata": {},
      "outputs": [
        {
          "data": {
            "image/png": "[encoded data removed]",
            "text/plain": [
              "<Figure size 1000x600 with 1 Axes>"
            ]
          },
          "metadata": {},
          "output_type": "display_data"
        }
      ],
      "source": [
        "import matplotlib.pyplot as plt\n",
        "\n",
        "# Define the number of top states you want to display.\n",
        "k = 5  # change this value as needed\n",
        "\n",
        "# Convert each state to a string (if necessary) for the labels.\n",
        "states_str = [\n",
        "    ''.join(map(str, state)) if isinstance(state, (tuple, list)) else state\n",
        "    for state in samples_unbalanced.keys()\n",
        "]\n",
        "counts = list(samples_unbalanced.values())\n",
        "\n",
        "# Zip the states with counts and sort them in descending order by count.\n",
        "sorted_states = sorted(zip(states_str, counts), key=lambda x: x[1], reverse=True)\n",
        "\n",
        "# Unpack the sorted list and take only the top k elements.\n",
        "top_states, top_counts = zip(*sorted_states[:k])\n",
        "\n",
        "plt.figure(figsize=(10, 6))\n",
        "plt.bar(top_states, top_counts)\n",
        "plt.xlabel(\"Measured Qubit States (Top {})\".format(k))\n",
        "plt.ylabel(\"Counts\")\n",
        "plt.title(\"Top {} Measured Qubit States\".format(k))\n",
        "plt.xticks(rotation=45)\n",
        "plt.tight_layout()\n",
        "plt.show()\n"
      ]
    },
    {
      "cell_type": "markdown",
      "metadata": {},
      "source": [
        "# Quantum Annealing Solution\n"
      ]
    },
    {
      "cell_type": "markdown",
      "metadata": {},
      "source": [
        "[Quantum\n",
        "annealing](https://en.wikipedia.org/wiki/Quantum_annealing#:~:text=Quantum%20annealing%20is%20used%20mainly,Apolloni%2C%20N.)\n",
        "is a process that exploits quantum mechanical effects to find low energy\n",
        "states of Ising Hamiltonians. We will use the quantum annealer D-Wave\n",
        "Advantage, a quantum computing system developed by D-Wave Systems Inc\n",
        "that has more than 5000 qubits.\n"
      ]
    },
    {
      "cell_type": "code",
      "execution_count": 71,
      "metadata": {
        "collapsed": false
      },
      "outputs": [
        {
          "ename": "FileNotFoundError",
          "evalue": "File QUBO/dwave_results_slack.json does not exist",
          "output_type": "error",
          "traceback": [
            "\u001b[1;31m---------------------------------------------------------------------------\u001b[0m",
            "\u001b[1;31mFileNotFoundError\u001b[0m                         Traceback (most recent call last)",
            "Cell \u001b[1;32mIn[71], line 42\u001b[0m\n\u001b[0;32m     40\u001b[0m     df \u001b[38;5;241m=\u001b[39m {}\n\u001b[0;32m     41\u001b[0m     \u001b[38;5;28;01mfor\u001b[39;00m method \u001b[38;5;129;01min\u001b[39;00m [\u001b[38;5;124m\"\u001b[39m\u001b[38;5;124mslack\u001b[39m\u001b[38;5;124m\"\u001b[39m, \u001b[38;5;124m\"\u001b[39m\u001b[38;5;124munbalanced\u001b[39m\u001b[38;5;124m\"\u001b[39m]:\n\u001b[1;32m---> 42\u001b[0m         df[method] \u001b[38;5;241m=\u001b[39m \u001b[43mpd\u001b[49m\u001b[38;5;241;43m.\u001b[39;49m\u001b[43mread_json\u001b[49m\u001b[43m(\u001b[49m\u001b[38;5;124;43mf\u001b[39;49m\u001b[38;5;124;43m\"\u001b[39;49m\u001b[38;5;124;43mQUBO/dwave_results_\u001b[39;49m\u001b[38;5;132;43;01m{\u001b[39;49;00m\u001b[43mmethod\u001b[49m\u001b[38;5;132;43;01m}\u001b[39;49;00m\u001b[38;5;124;43m.json\u001b[39;49m\u001b[38;5;124;43m\"\u001b[39;49m\u001b[43m)\u001b[49m\n\u001b[0;32m     43\u001b[0m         \u001b[38;5;66;03m# Loading the data from an execution on D-Wave Advantage\u001b[39;00m\n\u001b[0;32m     46\u001b[0m samples_dwave \u001b[38;5;241m=\u001b[39m {}\n",
            "File \u001b[1;32mc:\\Users\\fwilh\\.conda\\envs\\QAML\\lib\\site-packages\\pandas\\io\\json\\_json.py:791\u001b[0m, in \u001b[0;36mread_json\u001b[1;34m(path_or_buf, orient, typ, dtype, convert_axes, convert_dates, keep_default_dates, precise_float, date_unit, encoding, encoding_errors, lines, chunksize, compression, nrows, storage_options, dtype_backend, engine)\u001b[0m\n\u001b[0;32m    788\u001b[0m \u001b[38;5;28;01mif\u001b[39;00m convert_axes \u001b[38;5;129;01mis\u001b[39;00m \u001b[38;5;28;01mNone\u001b[39;00m \u001b[38;5;129;01mand\u001b[39;00m orient \u001b[38;5;241m!=\u001b[39m \u001b[38;5;124m\"\u001b[39m\u001b[38;5;124mtable\u001b[39m\u001b[38;5;124m\"\u001b[39m:\n\u001b[0;32m    789\u001b[0m     convert_axes \u001b[38;5;241m=\u001b[39m \u001b[38;5;28;01mTrue\u001b[39;00m\n\u001b[1;32m--> 791\u001b[0m json_reader \u001b[38;5;241m=\u001b[39m \u001b[43mJsonReader\u001b[49m\u001b[43m(\u001b[49m\n\u001b[0;32m    792\u001b[0m \u001b[43m    \u001b[49m\u001b[43mpath_or_buf\u001b[49m\u001b[43m,\u001b[49m\n\u001b[0;32m    793\u001b[0m \u001b[43m    \u001b[49m\u001b[43morient\u001b[49m\u001b[38;5;241;43m=\u001b[39;49m\u001b[43morient\u001b[49m\u001b[43m,\u001b[49m\n\u001b[0;32m    794\u001b[0m \u001b[43m    \u001b[49m\u001b[43mtyp\u001b[49m\u001b[38;5;241;43m=\u001b[39;49m\u001b[43mtyp\u001b[49m\u001b[43m,\u001b[49m\n\u001b[0;32m    795\u001b[0m \u001b[43m    \u001b[49m\u001b[43mdtype\u001b[49m\u001b[38;5;241;43m=\u001b[39;49m\u001b[43mdtype\u001b[49m\u001b[43m,\u001b[49m\n\u001b[0;32m    796\u001b[0m \u001b[43m    \u001b[49m\u001b[43mconvert_axes\u001b[49m\u001b[38;5;241;43m=\u001b[39;49m\u001b[43mconvert_axes\u001b[49m\u001b[43m,\u001b[49m\n\u001b[0;32m    797\u001b[0m \u001b[43m    \u001b[49m\u001b[43mconvert_dates\u001b[49m\u001b[38;5;241;43m=\u001b[39;49m\u001b[43mconvert_dates\u001b[49m\u001b[43m,\u001b[49m\n\u001b[0;32m    798\u001b[0m \u001b[43m    \u001b[49m\u001b[43mkeep_default_dates\u001b[49m\u001b[38;5;241;43m=\u001b[39;49m\u001b[43mkeep_default_dates\u001b[49m\u001b[43m,\u001b[49m\n\u001b[0;32m    799\u001b[0m \u001b[43m    \u001b[49m\u001b[43mprecise_float\u001b[49m\u001b[38;5;241;43m=\u001b[39;49m\u001b[43mprecise_float\u001b[49m\u001b[43m,\u001b[49m\n\u001b[0;32m    800\u001b[0m \u001b[43m    \u001b[49m\u001b[43mdate_unit\u001b[49m\u001b[38;5;241;43m=\u001b[39;49m\u001b[43mdate_unit\u001b[49m\u001b[43m,\u001b[49m\n\u001b[0;32m    801\u001b[0m \u001b[43m    \u001b[49m\u001b[43mencoding\u001b[49m\u001b[38;5;241;43m=\u001b[39;49m\u001b[43mencoding\u001b[49m\u001b[43m,\u001b[49m\n\u001b[0;32m    802\u001b[0m \u001b[43m    \u001b[49m\u001b[43mlines\u001b[49m\u001b[38;5;241;43m=\u001b[39;49m\u001b[43mlines\u001b[49m\u001b[43m,\u001b[49m\n\u001b[0;32m    803\u001b[0m \u001b[43m    \u001b[49m\u001b[43mchunksize\u001b[49m\u001b[38;5;241;43m=\u001b[39;49m\u001b[43mchunksize\u001b[49m\u001b[43m,\u001b[49m\n\u001b[0;32m    804\u001b[0m \u001b[43m    \u001b[49m\u001b[43mcompression\u001b[49m\u001b[38;5;241;43m=\u001b[39;49m\u001b[43mcompression\u001b[49m\u001b[43m,\u001b[49m\n\u001b[0;32m    805\u001b[0m \u001b[43m    \u001b[49m\u001b[43mnrows\u001b[49m\u001b[38;5;241;43m=\u001b[39;49m\u001b[43mnrows\u001b[49m\u001b[43m,\u001b[49m\n\u001b[0;32m    806\u001b[0m \u001b[43m    \u001b[49m\u001b[43mstorage_options\u001b[49m\u001b[38;5;241;43m=\u001b[39;49m\u001b[43mstorage_options\u001b[49m\u001b[43m,\u001b[49m\n\u001b[0;32m    807\u001b[0m \u001b[43m    \u001b[49m\u001b[43mencoding_errors\u001b[49m\u001b[38;5;241;43m=\u001b[39;49m\u001b[43mencoding_errors\u001b[49m\u001b[43m,\u001b[49m\n\u001b[0;32m    808\u001b[0m \u001b[43m    \u001b[49m\u001b[43mdtype_backend\u001b[49m\u001b[38;5;241;43m=\u001b[39;49m\u001b[43mdtype_backend\u001b[49m\u001b[43m,\u001b[49m\n\u001b[0;32m    809\u001b[0m \u001b[43m    \u001b[49m\u001b[43mengine\u001b[49m\u001b[38;5;241;43m=\u001b[39;49m\u001b[43mengine\u001b[49m\u001b[43m,\u001b[49m\n\u001b[0;32m    810\u001b[0m \u001b[43m\u001b[49m\u001b[43m)\u001b[49m\n\u001b[0;32m    812\u001b[0m \u001b[38;5;28;01mif\u001b[39;00m chunksize:\n\u001b[0;32m    813\u001b[0m     \u001b[38;5;28;01mreturn\u001b[39;00m json_reader\n",
            "File \u001b[1;32mc:\\Users\\fwilh\\.conda\\envs\\QAML\\lib\\site-packages\\pandas\\io\\json\\_json.py:904\u001b[0m, in \u001b[0;36mJsonReader.__init__\u001b[1;34m(self, filepath_or_buffer, orient, typ, dtype, convert_axes, convert_dates, keep_default_dates, precise_float, date_unit, encoding, lines, chunksize, compression, nrows, storage_options, encoding_errors, dtype_backend, engine)\u001b[0m\n\u001b[0;32m    902\u001b[0m     \u001b[38;5;28mself\u001b[39m\u001b[38;5;241m.\u001b[39mdata \u001b[38;5;241m=\u001b[39m filepath_or_buffer\n\u001b[0;32m    903\u001b[0m \u001b[38;5;28;01melif\u001b[39;00m \u001b[38;5;28mself\u001b[39m\u001b[38;5;241m.\u001b[39mengine \u001b[38;5;241m==\u001b[39m \u001b[38;5;124m\"\u001b[39m\u001b[38;5;124mujson\u001b[39m\u001b[38;5;124m\"\u001b[39m:\n\u001b[1;32m--> 904\u001b[0m     data \u001b[38;5;241m=\u001b[39m \u001b[38;5;28;43mself\u001b[39;49m\u001b[38;5;241;43m.\u001b[39;49m\u001b[43m_get_data_from_filepath\u001b[49m\u001b[43m(\u001b[49m\u001b[43mfilepath_or_buffer\u001b[49m\u001b[43m)\u001b[49m\n\u001b[0;32m    905\u001b[0m     \u001b[38;5;28mself\u001b[39m\u001b[38;5;241m.\u001b[39mdata \u001b[38;5;241m=\u001b[39m \u001b[38;5;28mself\u001b[39m\u001b[38;5;241m.\u001b[39m_preprocess_data(data)\n",
            "File \u001b[1;32mc:\\Users\\fwilh\\.conda\\envs\\QAML\\lib\\site-packages\\pandas\\io\\json\\_json.py:960\u001b[0m, in \u001b[0;36mJsonReader._get_data_from_filepath\u001b[1;34m(self, filepath_or_buffer)\u001b[0m\n\u001b[0;32m    952\u001b[0m     filepath_or_buffer \u001b[38;5;241m=\u001b[39m \u001b[38;5;28mself\u001b[39m\u001b[38;5;241m.\u001b[39mhandles\u001b[38;5;241m.\u001b[39mhandle\n\u001b[0;32m    953\u001b[0m \u001b[38;5;28;01melif\u001b[39;00m (\n\u001b[0;32m    954\u001b[0m     \u001b[38;5;28misinstance\u001b[39m(filepath_or_buffer, \u001b[38;5;28mstr\u001b[39m)\n\u001b[0;32m    955\u001b[0m     \u001b[38;5;129;01mand\u001b[39;00m filepath_or_buffer\u001b[38;5;241m.\u001b[39mlower()\u001b[38;5;241m.\u001b[39mendswith(\n\u001b[1;32m   (...)\u001b[0m\n\u001b[0;32m    958\u001b[0m     \u001b[38;5;129;01mand\u001b[39;00m \u001b[38;5;129;01mnot\u001b[39;00m file_exists(filepath_or_buffer)\n\u001b[0;32m    959\u001b[0m ):\n\u001b[1;32m--> 960\u001b[0m     \u001b[38;5;28;01mraise\u001b[39;00m \u001b[38;5;167;01mFileNotFoundError\u001b[39;00m(\u001b[38;5;124mf\u001b[39m\u001b[38;5;124m\"\u001b[39m\u001b[38;5;124mFile \u001b[39m\u001b[38;5;132;01m{\u001b[39;00mfilepath_or_buffer\u001b[38;5;132;01m}\u001b[39;00m\u001b[38;5;124m does not exist\u001b[39m\u001b[38;5;124m\"\u001b[39m)\n\u001b[0;32m    961\u001b[0m \u001b[38;5;28;01melse\u001b[39;00m:\n\u001b[0;32m    962\u001b[0m     warnings\u001b[38;5;241m.\u001b[39mwarn(\n\u001b[0;32m    963\u001b[0m         \u001b[38;5;124m\"\u001b[39m\u001b[38;5;124mPassing literal json to \u001b[39m\u001b[38;5;124m'\u001b[39m\u001b[38;5;124mread_json\u001b[39m\u001b[38;5;124m'\u001b[39m\u001b[38;5;124m is deprecated and \u001b[39m\u001b[38;5;124m\"\u001b[39m\n\u001b[0;32m    964\u001b[0m         \u001b[38;5;124m\"\u001b[39m\u001b[38;5;124mwill be removed in a future version. To read from a \u001b[39m\u001b[38;5;124m\"\u001b[39m\n\u001b[1;32m   (...)\u001b[0m\n\u001b[0;32m    967\u001b[0m         stacklevel\u001b[38;5;241m=\u001b[39mfind_stack_level(),\n\u001b[0;32m    968\u001b[0m     )\n",
            "\u001b[1;31mFileNotFoundError\u001b[0m: File QUBO/dwave_results_slack.json does not exist"
          ]
        }
      ],
      "source": [
        "from dwave.system import DWaveSampler, EmbeddingComposite\n",
        "from dwave.cloud import Client\n",
        "import dimod\n",
        "import pandas as pd\n",
        "\n",
        "bqm = {}\n",
        "# BQM - Binary Quadratic Model\n",
        "# This creates the QUBO model of our Knapsack problem using the slack variables approach\n",
        "# offset is the constant term in our QUBO formulation\n",
        "# ----------- SLACK METHOD -----------\n",
        "max_nodes = 3\n",
        "bqm[\"slack\"] = dimod.BQM.from_qubo(QT, offset=lambd * max_nodes**2)\n",
        "bqm[\"slack\"].relabel_variables({i: f\"x_{i}\" for i in range(bqm[\"slack\"].num_variables)})\n",
        "# -----------  UNBALANCED METHOD -----------\n",
        "lagrange_multiplier = [0.96, 0.0371]  # Again values from the paper\n",
        "bqm[\"unbalanced\"] = dimod.BQM.from_qubo(Q)  # This adds the objective function to the model\n",
        "bqm[\"unbalanced\"].add_linear_inequality_constraint(\n",
        "    [(n, i) for n, i in enumerate(weights_list)],  # This adds the constraint\n",
        "    lagrange_multiplier,\n",
        "    \"unbalanced\",\n",
        "    ub=max_nodes,\n",
        "    penalization_method=\"unbalanced\",\n",
        ")\n",
        "bqm[\"unbalanced\"].relabel_variables({i: f\"x_{i}\" for i in range(bqm[\"unbalanced\"].num_variables)})\n",
        "\n",
        "# If you have an account you can execute the following code, otherwise read the file.\n",
        "account = False\n",
        "df = {}\n",
        "if account:\n",
        "    # Replace with your client information\n",
        "    sampler = DWaveSampler(region=\"eu-central-1\")\n",
        "    sampler_qpu = EmbeddingComposite(sampler)\n",
        "    for method in [\"slack\", \"unbalanced\"]:\n",
        "        samples = sampler_qpu.sample(bqm[method], num_reads=5000)  # Executing on real hardware\n",
        "        df[method] = (\n",
        "            samples.to_pandas_dataframe().sort_values(\"energy\").reset_index(drop=True)\n",
        "        )  # Converting the sampling information and sort it by cost\n",
        "        df[method].to_json(f\"QUBO/dwave_results_{method}.json\")  # save the results\n",
        "else:\n",
        "    df = {}\n",
        "    for method in [\"slack\", \"unbalanced\"]:\n",
        "        df[method] = pd.read_json(f\"QUBO/dwave_results_{method}.json\")\n",
        "        # Loading the data from an execution on D-Wave Advantage\n",
        "\n",
        "\n",
        "samples_dwave = {}\n",
        "values = {}\n",
        "for method in [\"slack\", \"unbalanced\"]:\n",
        "    samples_dwave[method] = defaultdict(int)\n",
        "    for i, row in df[method].iterrows():\n",
        "        # Postprocessing the information\n",
        "        sample_i = \"\".join(str(round(row[q])) for q in bqm[method].variables)\n",
        "        samples_dwave[method][sample_i] += row[\"num_occurrences\"]\n",
        "    values[method] = {\n",
        "        sum_values(sample_i, values_list): count\n",
        "        for sample_i, count in samples_dwave[method].items()\n",
        "        if sum_weight(sample_i, weights_list) <= max_nodes\n",
        "    }"
      ]
    },
    {
      "cell_type": "markdown",
      "metadata": {},
      "source": [
        "The histogram below shows the results of both encodings on D-Wave\n",
        "Advantage. Once again, we prove that depending on the encoding method\n",
        "for our problem, we get good or bad results.\n"
      ]
    },
    {
      "cell_type": "code",
      "execution_count": null,
      "metadata": {
        "collapsed": false
      },
      "outputs": [],
      "source": [
        "fig, ax = plt.subplots()\n",
        "bins = {\"unbalanced\": 5, \"slack\": 40}\n",
        "for method in [\"unbalanced\", \"slack\"]:\n",
        "    ax.hist(\n",
        "        values[method].keys(),\n",
        "        weights=values[method].values(),\n",
        "        bins=bins[method],\n",
        "        edgecolor=\"black\",\n",
        "        label=method,\n",
        "        align=\"right\",\n",
        "    )\n",
        "ax.vlines(-min_cost, 0, 5000, linestyle=\"--\", color=\"black\", label=\"Optimal\", linewidth=2)\n",
        "ax.set_yscale(\"log\")\n",
        "ax.legend()\n",
        "ax.set_ylabel(\"counts\")\n",
        "ax.set_xlabel(\"value\")\n",
        "fig.show()"
      ]
    },
    {
      "cell_type": "markdown",
      "metadata": {},
      "source": [
        "# Conclusion\n",
        "\n",
        "We have come to the end of this demo. We have covered the definition of\n",
        "combinatorial optimization problems and how to formulate one of them,\n",
        "the Knapsack Problem, using QUBO, and two different encodings: slack\n",
        "variables and unbalanced penalization. Then, we solved them using\n",
        "optimization-free QAOA and QA. Now, it's your turn to experiment with\n",
        "QAOA! If you need some inspiration:\n",
        "\n",
        "-   Look at the [OpenQAOA](https://openqaoa.entropicalabs.com/) set of\n",
        "    problems. There are plenty of them like bin packing, traveling\n",
        "    salesman, and maximal independent set, among others.\n",
        "-   Play around with larger problems.\n",
        "\n",
        "# References\n",
        "\n",
        "\\[1\\] Farhi, E., Goldstone, J., & Gutmann, S. (2014). A Quantum\n",
        "Approximate Optimization Algorithm. <http://arxiv.org/abs/1411.4028>\n",
        "\n",
        "\\[2\\] Montanez-Barrera, A., Willsch, D., A., Maldonado-Romo, &\n",
        "Michielsen, K. (2022). Unbalanced penalization: A new approach to encode\n",
        "inequality constraints of combinatorial problems for quantum\n",
        "optimization algorithms. <http://arxiv.org/abs/2211.13914>\n",
        "\n",
        "\\[3\\] Montanez-Barrera, J. A., Heuvel, P. van den, Willsch, D., &\n",
        "Michielsen, K. (2023). Improving Performance in Combinatorial\n",
        "Optimization Problems with Inequality Constraints: An Evaluation of the\n",
        "Unbalanced Penalization Method on D-Wave Advantage.\n",
        "<https://doi.org/10.1109/QCE57702.2023.00067>\n"
      ]
    },
    {
      "cell_type": "markdown",
      "metadata": {},
      "source": [
        "# About the author\n"
      ]
    }
  ],
  "metadata": {
    "kernelspec": {
      "display_name": "QAML",
      "language": "python",
      "name": "python3"
    },
    "language_info": {
      "codemirror_mode": {
        "name": "ipython",
        "version": 3
      },
      "file_extension": ".py",
      "mimetype": "text/x-python",
      "name": "python",
      "nbconvert_exporter": "python",
      "pygments_lexer": "ipython3",
      "version": "3.10.15"
    }
  },
  "nbformat": 4,
  "nbformat_minor": 0
}
